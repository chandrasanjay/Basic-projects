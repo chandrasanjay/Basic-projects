{
  "nbformat": 4,
  "nbformat_minor": 0,
  "metadata": {
    "colab": {
      "provenance": [],
      "authorship_tag": "ABX9TyOAV5mDd2HrxHRSD/9dl/9S",
      "include_colab_link": true
    },
    "kernelspec": {
      "name": "python3",
      "display_name": "Python 3"
    },
    "language_info": {
      "name": "python"
    }
  },
  "cells": [
    {
      "cell_type": "markdown",
      "metadata": {
        "id": "view-in-github",
        "colab_type": "text"
      },
      "source": [
        "<a href=\"https://colab.research.google.com/github/chandrasanjay/Basic-projects/blob/main/Number_Guessing_Game.ipynb\" target=\"_parent\"><img src=\"https://colab.research.google.com/assets/colab-badge.svg\" alt=\"Open In Colab\"/></a>"
      ]
    },
    {
      "cell_type": "code",
      "execution_count": 2,
      "metadata": {
        "colab": {
          "base_uri": "https://localhost:8080/"
        },
        "id": "gdLXyL6SJLBf",
        "outputId": "902ca503-dcaf-4423-9738-c9f235d0e917"
      },
      "outputs": [
        {
          "output_type": "stream",
          "name": "stdout",
          "text": [
            "Welcome to the Number Guessing Game!\n",
            "May I ask you for your name? CHANDRASANJAY\n",
            "CHANDRASANJAY, we are going to play a game. I am thinking of a number between 1 and 200.\n",
            "Go ahead. Guess: 100\n",
            "The guess of the number that you have entered is too high. Try Again!\n",
            "Go ahead. Guess: 90\n",
            "The guess of the number that you have entered is too high. Try Again!\n",
            "Go ahead. Guess: 50\n",
            "The guess of the number that you have entered is too high. Try Again!\n",
            "Go ahead. Guess: 30\n",
            "The guess of the number that you have entered is too low. Try Again!\n",
            "Go ahead. Guess: 42\n",
            "The guess of the number that you have entered is too low. Try Again!\n",
            "Go ahead. Guess: 49\n",
            "The guess of the number that you have entered is too high. Try Again!\n",
            "Nope. The number I was thinking of was 47\n",
            "Do you want to play again? (yes/no): YES\n",
            "Welcome to the Number Guessing Game!\n",
            "May I ask you for your name? CHANDRASANJAY\n",
            "CHANDRASANJAY, we are going to play a game. I am thinking of a number between 1 and 200.\n",
            "Go ahead. Guess: 50\n",
            "The guess of the number that you have entered is too low. Try Again!\n",
            "Go ahead. Guess: 100\n",
            "The guess of the number that you have entered is too high. Try Again!\n",
            "Go ahead. Guess: 80\n",
            "The guess of the number that you have entered is too low. Try Again!\n",
            "Go ahead. Guess: 90\n",
            "The guess of the number that you have entered is too high. Try Again!\n",
            "Go ahead. Guess: 83\n",
            "The guess of the number that you have entered is too low. Try Again!\n",
            "Go ahead. Guess: 87\n",
            "The guess of the number that you have entered is too low. Try Again!\n",
            "Nope. The number I was thinking of was 89\n",
            "Do you want to play again? (yes/no): NO\n",
            "Thanks for playing!\n"
          ]
        }
      ],
      "source": [
        "import random\n",
        "def number_guessing_game():\n",
        "    print(\"Welcome to the Number Guessing Game!\")\n",
        "    name = input(\"May I ask you for your name? \")\n",
        "    print(f\"{name}, we are going to play a game. I am thinking of a number between 1 and 200.\")\n",
        "\n",
        "    # Generate a random number between 1 and 200\n",
        "    secret_number = random.randint(1, 200)\n",
        "\n",
        "    attempts = 0\n",
        "    while attempts < 6:\n",
        "        try:\n",
        "            guess = int(input(\"Go ahead. Guess: \"))\n",
        "            if guess < 1 or guess > 200:\n",
        "                print(\"Please enter a number between 1 and 200.\")\n",
        "                continue\n",
        "\n",
        "            attempts += 1\n",
        "\n",
        "            if guess < secret_number:\n",
        "                print(\"The guess of the number that you have entered is too low. Try Again!\")\n",
        "            elif guess > secret_number:\n",
        "                print(\"The guess of the number that you have entered is too high. Try Again!\")\n",
        "            else:\n",
        "                print(f\"Congratulations, {name}! You guessed the number {secret_number} correctly in {attempts} attempts!\")\n",
        "                return\n",
        "        except ValueError:\n",
        "            print(\"Invalid input. Please enter a valid number.\")\n",
        "\n",
        "    print(f\"Nope. The number I was thinking of was {secret_number}\")\n",
        "    play_again = input(\"Do you want to play again? (yes/no): \")\n",
        "    if play_again.lower() == 'yes':\n",
        "        number_guessing_game()\n",
        "    else:\n",
        "        print(\"Thanks for playing!\")\n",
        "\n",
        "if __name__ == \"__main__\":\n",
        "    number_guessing_game()\n",
        "\n"
      ]
    }
  ]
}