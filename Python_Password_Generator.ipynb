{
  "nbformat": 4,
  "nbformat_minor": 0,
  "metadata": {
    "colab": {
      "provenance": [],
      "authorship_tag": "ABX9TyNf8oAo/vOtw8LMC/5AOXxu",
      "include_colab_link": true
    },
    "kernelspec": {
      "name": "python3",
      "display_name": "Python 3"
    },
    "language_info": {
      "name": "python"
    }
  },
  "cells": [
    {
      "cell_type": "markdown",
      "metadata": {
        "id": "view-in-github",
        "colab_type": "text"
      },
      "source": [
        "<a href=\"https://colab.research.google.com/github/chandrasanjay/Basic-projects/blob/main/Python_Password_Generator.ipynb\" target=\"_parent\"><img src=\"https://colab.research.google.com/assets/colab-badge.svg\" alt=\"Open In Colab\"/></a>"
      ]
    },
    {
      "cell_type": "code",
      "execution_count": 5,
      "metadata": {
        "colab": {
          "base_uri": "https://localhost:8080/"
        },
        "id": "MM_dADFBLjMf",
        "outputId": "41a12625-9717-47d7-9a0e-3bbb2dc4498f"
      },
      "outputs": [
        {
          "output_type": "stream",
          "name": "stdout",
          "text": [
            "Welcome to the Python Password Generator!\n",
            "How many passwords do you want to generate? 7\n",
            "Generating 7 passwords\n",
            "Enter the length of Password ( minimum length of the password 3 )#1: 3\n",
            "Enter the length of Password ( minimum length of the password 3 )#2: 4\n",
            "Enter the length of Password ( minimum length of the password 3 )#3: 5\n",
            "Enter the length of Password ( minimum length of the password 3 )#4: 6\n",
            "Enter the length of Password ( minimum length of the password 3 )#5: 7\n",
            "Enter the length of Password ( minimum length of the password 3 )#6: 8\n",
            "Enter the length of Password ( minimum length of the password 3 )#7: 9\n",
            "\n",
            "Generated Passwords:\n",
            "Password 1: rrP\n",
            "Password 2: \"kf6\n",
            "Password 3: tO5wJ\n",
            "Password 4: $xz2Hs\n",
            "Password 5: (F\\ns\"o\n",
            "Password 6: E:qXnC@^\n",
            "Password 7: J_6L\"I#1H\n"
          ]
        }
      ],
      "source": [
        "import random\n",
        "import string\n",
        "\n",
        "def generate_password(length):\n",
        "    \"\"\"Generate a random password with the specified length.\"\"\"\n",
        "    # Define characters to use in the password\n",
        "    characters = string.ascii_letters + string.digits + string.punctuation\n",
        "\n",
        "    # Generate the password\n",
        "    password = ''.join(random.choice(characters) for _ in range(length))\n",
        "\n",
        "    return password\n",
        "\n",
        "def main():\n",
        "    print(\"Welcome to the Python Password Generator!\")\n",
        "    while True:\n",
        "        try:\n",
        "            num_passwords = int(input(\"How many passwords do you want to generate? \"))\n",
        "            if num_passwords <= 0:\n",
        "                print(\"Please enter a number greater than zero.\")\n",
        "                continue\n",
        "            print(f\"Generating {num_passwords} passwords\")\n",
        "            passwords = []\n",
        "            for i in range(num_passwords):\n",
        "                while True:\n",
        "                    try:\n",
        "                        length = int(input(f\"Enter the length of Password ( minimum length of the password 3 )#{i + 1}: \"))\n",
        "                        if length < 3:\n",
        "                            print(\"Minimum length of password should be 3.\")\n",
        "                        else:\n",
        "                            passwords.append(generate_password(length))\n",
        "                            break\n",
        "                    except ValueError:\n",
        "                        print(\"Invalid input. Please enter a valid integer.\")\n",
        "            print(\"\\nGenerated Passwords:\")\n",
        "            for i, password in enumerate(passwords, 1):\n",
        "                print(f\"Password {i}: {password}\")\n",
        "            break\n",
        "        except ValueError:\n",
        "            print(\"Invalid input. Please enter a valid integer for the number of passwords.\")\n",
        "\n",
        "if __name__ == \"__main__\":\n",
        "    main()\n"
      ]
    }
  ]
}